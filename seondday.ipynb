{
  "nbformat": 4,
  "nbformat_minor": 0,
  "metadata": {
    "colab": {
      "name": "Welcome To Colaboratory",
      "provenance": [],
      "collapsed_sections": [],
      "toc_visible": true,
      "include_colab_link": true
    },
    "kernelspec": {
      "display_name": "Python 3",
      "name": "python3"
    }
  },
  "cells": [
    {
      "cell_type": "markdown",
      "metadata": {
        "id": "view-in-github",
        "colab_type": "text"
      },
      "source": [
        "<a href=\"https://colab.research.google.com/github/jomonthomaslobo/mlstudy/blob/master/seondday.ipynb\" target=\"_parent\"><img src=\"https://colab.research.google.com/assets/colab-badge.svg\" alt=\"Open In Colab\"/></a>"
      ]
    },
    {
      "cell_type": "code",
      "metadata": {
        "id": "vu4S--RIxPcj",
        "colab_type": "code",
        "colab": {
          "base_uri": "https://localhost:8080/",
          "height": 34
        },
        "outputId": "bc2940a9-a17e-4edd-9863-20b0b0039877"
      },
      "source": [
        "from sklearn.svm import SVC\n",
        "from sklearn.datasets import load_iris #loading data\n",
        "iris=load_iris()# to get iris data\n",
        "\n",
        "x=iris.data #features\n",
        "y=iris.target#class name\n",
        "#model\n",
        "ml_model=SVC()\n",
        "\n",
        "#input data\n",
        "ml_model.fit(x,y) #training ends\n",
        "a=ml_model.predict([[3.2,5.1,1.6,7.8]])#testing\n",
        "print(a)"
      ],
      "execution_count": 2,
      "outputs": [
        {
          "output_type": "stream",
          "text": [
            "[2]\n"
          ],
          "name": "stdout"
        }
      ]
    }
  ]
}