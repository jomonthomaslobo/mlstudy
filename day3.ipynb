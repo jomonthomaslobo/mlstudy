{
  "nbformat": 4,
  "nbformat_minor": 0,
  "metadata": {
    "colab": {
      "name": "Welcome To Colaboratory",
      "provenance": [],
      "collapsed_sections": [],
      "toc_visible": true,
      "include_colab_link": true
    },
    "kernelspec": {
      "display_name": "Python 3",
      "name": "python3"
    }
  },
  "cells": [
    {
      "cell_type": "markdown",
      "metadata": {
        "id": "view-in-github",
        "colab_type": "text"
      },
      "source": [
        "<a href=\"https://colab.research.google.com/github/jomonthomaslobo/mlstudy/blob/master/day3.ipynb\" target=\"_parent\"><img src=\"https://colab.research.google.com/assets/colab-badge.svg\" alt=\"Open In Colab\"/></a>"
      ]
    },
    {
      "cell_type": "code",
      "metadata": {
        "id": "zB2kzAjj0gsQ",
        "colab_type": "code",
        "colab": {}
      },
      "source": [
        "from sklearn.svm import SVC\n",
        "from sklearn.datasets import load_iris #loading data\n",
        "from sklearn.model_selection import train_test_split # for splitting test and train\n",
        "iris=load_iris()# to get iris data\n",
        "x=iris.data\n",
        "y=iris.target\n",
        "x_train,x_test,y_train,y_test=train_test_split(x,y,test_size=0.3,random_state=1)#cross validation for split train n test03=30%,random state for taking radome values\n",
        "#model\n",
        "ml_model=SVC()\n",
        "\n",
        "#input data\n",
        "ml_model.fit(x_train,y_train) #training ends\n",
        "a=ml_model.predict(x_test)#testing\n",
        "print(a)"
      ],
      "execution_count": 0,
      "outputs": []
    }
  ]
}